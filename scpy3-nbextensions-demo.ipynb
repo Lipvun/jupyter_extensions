{
 "cells": [
  {
   "cell_type": "markdown",
   "metadata": {},
   "source": [
    "# NBextensions Demo"
   ]
  },
  {
   "cell_type": "code",
   "execution_count": 87,
   "metadata": {
    "collapsed": false,
    "scpy3_bookmark": 1
   },
   "outputs": [],
   "source": [
    "from datetime import datetime\n",
    "now = datetime.now()"
   ]
  },
  {
   "cell_type": "markdown",
   "metadata": {},
   "source": [
    "## install"
   ]
  },
  {
   "cell_type": "markdown",
   "metadata": {},
   "source": [
    "Download the project from https://github.com/ruoyu0088/jupyter_extensions, and change directory to `jupyter_extensions` and run following command:\n",
    "\n",
    "```\n",
    "jupyter nbextension install scpy3 --user\n",
    "```\n",
    "\n",
    "It will be install to the following directory:"
   ]
  },
  {
   "cell_type": "code",
   "execution_count": 46,
   "metadata": {
    "collapsed": false
   },
   "outputs": [
    {
     "data": {
      "text/plain": [
       "'/home/chronos/user/.local/share/jupyter'"
      ]
     },
     "execution_count": 46,
     "metadata": {},
     "output_type": "execute_result"
    }
   ],
   "source": [
    "import jupyter_core\n",
    "jupyter_core.paths.jupyter_data_dir()"
   ]
  },
  {
   "cell_type": "markdown",
   "metadata": {},
   "source": [
    "To enable the extensions, run following cell:"
   ]
  },
  {
   "cell_type": "code",
   "execution_count": 60,
   "metadata": {
    "collapsed": false
   },
   "outputs": [
    {
     "data": {
      "text/plain": [
       "{'load_extensions': {'scpy3/bookmark': True,\n",
       "  'scpy3/copycells': True,\n",
       "  'scpy3/iconbox': True,\n",
       "  'scpy3/macro': True,\n",
       "  'scpy3/maximize': True,\n",
       "  'scpy3/run_mdcell': True,\n",
       "  'scpy3/slice': True,\n",
       "  'scpy3/style': True,\n",
       "  'scpy3/toc': True}}"
      ]
     },
     "execution_count": 60,
     "metadata": {},
     "output_type": "execute_result"
    }
   ],
   "source": [
    "from notebook.services import config\n",
    "cm = config.manager.ConfigManager()\n",
    "cm.update('notebook', \n",
    "    {'load_extensions': {\n",
    "      'scpy3/bookmark': True,\n",
    "      'scpy3/copycells': True,\n",
    "      'scpy3/iconbox': True,\n",
    "      'scpy3/macro': True,\n",
    "      'scpy3/maximize': True,\n",
    "      'scpy3/run_mdcell': True,\n",
    "      'scpy3/slice': True,\n",
    "      'scpy3/style': True,\n",
    "      'scpy3/toc': True}})"
   ]
  },
  {
   "cell_type": "markdown",
   "metadata": {},
   "source": [
    "Then reload this notebook to load all the extensions."
   ]
  },
  {
   "cell_type": "markdown",
   "metadata": {},
   "source": [
    "## Extension: Table of Contents"
   ]
  },
  {
   "cell_type": "markdown",
   "metadata": {},
   "source": [
    "Press `Alt-t` in command mode, a TOC will be showed on the right side. Click the links in the TOC will jump to the header. You can also jump between headers with `Ctrl-←` and `Ctrl-→`.\n",
    "\n",
    "Press `Alt-t` again to hide the TOC."
   ]
  },
  {
   "cell_type": "markdown",
   "metadata": {},
   "source": [
    "## Extension: Copy & Paste"
   ]
  },
  {
   "cell_type": "markdown",
   "metadata": {},
   "source": [
    "By using this extension, you can copy & paste cells between notebooks. Here are three cells to be copy. \n",
    "\n",
    "* Select the `Copy me` cell first.\n",
    "* Select the cells by press `Shift-↓` twice.\n",
    "* Press `Alt-c` to copy the selected cells to clipboard.\n",
    "* Create a new notebook, and press `Alt-v` there. The three cells in the clipboard will be inserted below the current selected cell.\n",
    "* You can also paste one cell in the clipboard by press `Alt-Shift-v`. It will popup a search dialog.\n",
    "* To copy nonsequence cells, copy the first cell by `Alt-c` and then append other cells to clipboard by press `Alt-a`."
   ]
  },
  {
   "cell_type": "markdown",
   "metadata": {},
   "source": [
    "### Copy me"
   ]
  },
  {
   "cell_type": "markdown",
   "metadata": {},
   "source": [
    "To get the Python version, run following code:"
   ]
  },
  {
   "cell_type": "code",
   "execution_count": 62,
   "metadata": {
    "collapsed": false
   },
   "outputs": [
    {
     "name": "stdout",
     "output_type": "stream",
     "text": [
      "3.5.1 |Continuum Analytics, Inc.| (default, Dec  7 2015, 11:16:01) \n",
      "[GCC 4.4.7 20120313 (Red Hat 4.4.7-1)]\n"
     ]
    }
   ],
   "source": [
    "import sys\n",
    "print(sys.version)"
   ]
  },
  {
   "cell_type": "markdown",
   "metadata": {},
   "source": [
    "The clipboard content is saved in a configure file, you can read by:"
   ]
  },
  {
   "cell_type": "code",
   "execution_count": 63,
   "metadata": {
    "collapsed": false
   },
   "outputs": [
    {
     "data": {
      "text/plain": [
       "{'cells': [{'cell_type': 'markdown', 'metadata': {}, 'source': '### Copy me'},\n",
       "  {'cell_type': 'markdown',\n",
       "   'metadata': {},\n",
       "   'source': 'To get the Python version, run following code:'},\n",
       "  {'cell_type': 'code',\n",
       "   'execution_count': 62,\n",
       "   'metadata': {'collapsed': False, 'trusted': True},\n",
       "   'outputs': [{'name': 'stdout',\n",
       "     'output_type': 'stream',\n",
       "     'text': '3.5.1 |Continuum Analytics, Inc.| (default, Dec  7 2015, 11:16:01) \\n[GCC 4.4.7 20120313 (Red Hat 4.4.7-1)]\\n'}],\n",
       "   'source': 'import sys\\nprint(sys.version)'}]}"
      ]
     },
     "execution_count": 63,
     "metadata": {},
     "output_type": "execute_result"
    }
   ],
   "source": [
    "from notebook.services import config\n",
    "cm = config.manager.ConfigManager()\n",
    "cm.get('scpy3_copycells')"
   ]
  },
  {
   "cell_type": "markdown",
   "metadata": {},
   "source": [
    "## Extension: Slice"
   ]
  },
  {
   "cell_type": "markdown",
   "metadata": {},
   "source": [
    "Select following three cells one by one, and press `Alt-i`, and then in the popup dialog box press `Enter` to add a new slice.\n",
    "\n",
    "* If the cell starts with `#%`, then the line will be used to set the name of the slice.\n",
    "* The slice name contains a group name and a code name."
   ]
  },
  {
   "cell_type": "code",
   "execution_count": 67,
   "metadata": {
    "collapsed": false
   },
   "outputs": [],
   "source": [
    "#%import:pylab\n",
    "%matplotlib inline\n",
    "import pylab as pl\n",
    "pl.style.use('ggplot')\n",
    "pl.rcParams['figure.figsize'] = 8, 4"
   ]
  },
  {
   "cell_type": "code",
   "execution_count": 72,
   "metadata": {
    "collapsed": false
   },
   "outputs": [],
   "source": [
    "#%import:pandas\n",
    "import numpy as np\n",
    "import pandas as pd"
   ]
  },
  {
   "cell_type": "code",
   "execution_count": null,
   "metadata": {
    "collapsed": false
   },
   "outputs": [],
   "source": [
    "#%pylab:plot21\n",
    "fig, axes = pl.subplots(2, 1, sharex=True)\n",
    "axes[0].plot(x, y, label=\" \")\n",
    "axes[1].plot(x, y, label=\" \")\n",
    "axes[0].set_ylabel(\"\")\n",
    "axes[1].set_ylabel(\"\")\n",
    "axes[1].set_xlabel(\"\")\n",
    "for ax in axes:\n",
    "    ax.legend(loc=\"best\")"
   ]
  },
  {
   "cell_type": "markdown",
   "metadata": {},
   "source": [
    "Select the following cell and press `Alt-l`, and then select one slice from the list, and press `Enter`. The source code of the selected slice will be appended to the current cell."
   ]
  },
  {
   "cell_type": "markdown",
   "metadata": {},
   "source": [
    "> **TIP**\n",
    "\n",
    "> Mouse over a slice in the list will show the full code."
   ]
  },
  {
   "cell_type": "code",
   "execution_count": null,
   "metadata": {
    "collapsed": true
   },
   "outputs": [],
   "source": [
    "# here is my code"
   ]
  },
  {
   "cell_type": "markdown",
   "metadata": {},
   "source": [
    "To remove a slice, press `Alt-l` to popup the list, select the target slice and then press `Ctrl-Shift-k`, finally close the list by `ESC`."
   ]
  },
  {
   "cell_type": "markdown",
   "metadata": {},
   "source": [
    "## Extension: Icon Box"
   ]
  },
  {
   "cell_type": "markdown",
   "metadata": {},
   "source": [
    "This extension render markdown cell starts with `>` in special style. \n",
    "\n",
    "```\n",
    "> **ICON**\n",
    "\n",
    "> text\n",
    "```\n",
    "\n",
    "renders as a box with a icon in the left. Icon can be: `tip, question, link, source, warning`."
   ]
  },
  {
   "cell_type": "markdown",
   "metadata": {},
   "source": [
    "> **TIP**\n",
    "\n",
    "> This is a TIP"
   ]
  },
  {
   "cell_type": "markdown",
   "metadata": {},
   "source": [
    "> **QUESTION**\n",
    "\n",
    "> How to do this?"
   ]
  },
  {
   "cell_type": "markdown",
   "metadata": {},
   "source": [
    "> **LINK**\n",
    "\n",
    "> https://jupyter.readthedocs.io/en/latest/\n",
    "\n",
    "> The documentation of Jupyter project"
   ]
  },
  {
   "cell_type": "markdown",
   "metadata": {},
   "source": [
    "> **SOURCE**\n",
    "\n",
    "> scpy3/code/info.py\n",
    "\n",
    "> Run this code to get the information of the system."
   ]
  },
  {
   "cell_type": "markdown",
   "metadata": {},
   "source": [
    "> **WARNING**\n",
    "\n",
    "> Don't install Python packages with `sudo pip ...`."
   ]
  },
  {
   "cell_type": "markdown",
   "metadata": {},
   "source": [
    "If the first line is `> title`, then it will be rendered as follows: "
   ]
  },
  {
   "cell_type": "markdown",
   "metadata": {
    "collapsed": true
   },
   "source": [
    "> What is NumPy\n",
    "\n",
    "NumPy is the fundamental package for scientific computing with Python. It contains among other things:\n",
    "\n",
    "* a powerful N-dimensional array object\n",
    "* sophisticated (broadcasting) functions\n",
    "* tools for integrating C/C++ and Fortran code\n",
    "* useful linear algebra, Fourier transform, and random number capabilities"
   ]
  },
  {
   "cell_type": "markdown",
   "metadata": {},
   "source": [
    "## Extension: Maximize"
   ]
  },
  {
   "cell_type": "markdown",
   "metadata": {},
   "source": [
    "To maximize edit area (hide header, menubar and toolbar), press `Ctrl-↑` in command mode. Press `Ctrl-↓` to return to normal mode.\n",
    "\n",
    "In maximized mode, the notification area will be placed on the lower left corner, and the mode icon, kernel name and busy icon wll be placed on the lower right corner."
   ]
  },
  {
   "cell_type": "markdown",
   "metadata": {},
   "source": [
    "## Extension: Macro"
   ]
  },
  {
   "cell_type": "markdown",
   "metadata": {},
   "source": [
    "You can use this Macro extension to input some text quickly. To define the macros, type `$` and then press `Alt-m`. It will popup a dialog to edit the macro define.\n",
    "\n",
    "To input marco, type in the key word in the macro define, and press `Alt-m`. Move the cursor after every word below and press `Alt-m`:\n",
    "\n",
    "1 2 3 4 5 6 7 8 9 up down left right"
   ]
  },
  {
   "cell_type": "markdown",
   "metadata": {},
   "source": [
    "## Extension: Style"
   ]
  },
  {
   "cell_type": "markdown",
   "metadata": {},
   "source": [
    "This extension add a theme selector to the toolbar. The selected theme name is saved in the metadata of the notebook."
   ]
  },
  {
   "cell_type": "markdown",
   "metadata": {},
   "source": [
    "## Extension: Bookmark"
   ]
  },
  {
   "cell_type": "markdown",
   "metadata": {
    "scpy3_bookmark": 2
   },
   "source": [
    "By using this bookmark extension, you can:\n",
    "\n",
    "* Set three type of bookmark to the selected cell.\n",
    "* Jump to the next or previous bookmarked cell quickly.\n",
    "* Run bookmarked cells quickly.\n",
    "\n",
    "Here is the shortcuts:\n",
    "\n",
    "* `Shift-1, Shift-2, Shift-3`: Toggle bookmark of the selected cell. \n",
    "* `Shift-←, shift-→`: Jump to the previous and next bookmarked cell.\n",
    "* `Ctrl-Shift-1, Ctrl-Shift-2, Ctrl-Shift-3`: Run all cells with the specified bookmark.\n",
    "\n",
    "I marked a cell before, press `Shift-←` to jump to that cell, and `Shift-→` to jump back to this cell. To run the marked cell press `Ctrl-Shift-1`, and run following cell to check the result:"
   ]
  },
  {
   "cell_type": "code",
   "execution_count": 88,
   "metadata": {
    "collapsed": false
   },
   "outputs": [
    {
     "name": "stdout",
     "output_type": "stream",
     "text": [
      "2016-06-04 10:34:42.231330\n"
     ]
    }
   ],
   "source": [
    "print(now)"
   ]
  },
  {
   "cell_type": "markdown",
   "metadata": {},
   "source": [
    "## Extension: Run Code in Markdown"
   ]
  },
  {
   "cell_type": "markdown",
   "metadata": {},
   "source": [
    "When I write book in notebook, sometimes I need to run some sample code in Markdown cell, and insert the output. This extension can do this automaticlly.\n",
    "\n",
    "For example, following is a markdown cell that describe discrete convolution with some same code. To run the sample code, select the sell and press `Alt-r`:"
   ]
  },
  {
   "cell_type": "markdown",
   "metadata": {},
   "source": [
    "> Discrete Convolution\n",
    "\n",
    "For complex-valued functions $f$, $g$ defined on the set $Z$ of integers, the discrete convolution of $f$ and $g$ is given by:\n",
    "\n",
    "$$(f * g)[n] = \\sum_{m=-\\infty}^\\infty f[m]\\, g[n - m] \\\\ = \\sum_{m=-\\infty}^\\infty f[n-m]\\, g[m]$$\n",
    "\n",
    "To calculate convolution in NumPy, we can use `numpy.convolve()`. It's `mode` argument has three options:\n",
    "\n",
    "```python\n",
    "import numpy as np\n",
    "f = np.array([1, 3, 2, 6, -4, 7, 9])\n",
    "g = np.ones(3)\n",
    "for mode in 'full', 'valid', 'same':\n",
    "    print(mode, np.convolve(f, g, mode=mode))\n",
    "```\n",
    "<pre class=\"scpy3-output\"><code>full [  1.   4.   6.  11.   4.   9.  12.  16.   9.]\n",
    "valid [  6.  11.   4.   9.  12.]\n",
    "same [  4.   6.  11.   4.   9.  12.  16.]\n",
    "</code></pre>"
   ]
  }
 ],
 "metadata": {
  "kernelspec": {
   "display_name": "Python 3",
   "language": "python",
   "name": "python3"
  },
  "language_info": {
   "codemirror_mode": {
    "name": "ipython",
    "version": 3
   },
   "file_extension": ".py",
   "mimetype": "text/x-python",
   "name": "python",
   "nbconvert_exporter": "python",
   "pygments_lexer": "ipython3",
   "version": "3.5.1"
  },
  "scpy3": {
   "theme": "default"
  }
 },
 "nbformat": 4,
 "nbformat_minor": 0
}
